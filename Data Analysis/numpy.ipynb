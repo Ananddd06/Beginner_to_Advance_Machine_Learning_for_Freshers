{
 "cells": [
  {
   "cell_type": "markdown",
   "metadata": {},
   "source": [
    "# Numpy\n",
    "\n",
    "NumPy (Numerical Python) is a powerful open-source library in Python used for numerical and scientific computing. It provides support for:\n",
    "\n",
    "* Multidimensional Arrays: A core feature of NumPy is its ndarray object, which represents a multidimensional array of elements of the same type, enabling efficient storage and manipulation of data.\n",
    "* Mathematical Functions: NumPy includes a comprehensive collection of mathematical functions for operations such as linear algebra, statistical analysis, Fourier transforms, and more.\n",
    "* Vectorized Operations: It allows for element-wise operations on arrays, reducing the need for explicit loops and optimizing performance.\n",
    "* Interoperability: It integrates well with other scientific libraries and is commonly used in combination with libraries like SciPy, Pandas, and Matplotlib."
   ]
  },
  {
   "cell_type": "code",
   "execution_count": 2,
   "metadata": {},
   "outputs": [],
   "source": [
    "import numpy as np \n",
    "# we are using np as the alias cause instead of numpy we can call np instead of numpy "
   ]
  },
  {
   "cell_type": "code",
   "execution_count": 3,
   "metadata": {},
   "outputs": [
    {
     "name": "stdout",
     "output_type": "stream",
     "text": [
      "The 1D Dimensional of the array is  [1 2 3 4 5]\n",
      "The type of the array is  <class 'numpy.ndarray'>\n",
      "The shape of the array is : (5,)\n"
     ]
    }
   ],
   "source": [
    "# Here we created the !D array using the numpy\n",
    "arr1 = np.array([1 ,2  ,3 , 4, 5])\n",
    "print(\"The 1D Dimensional of the array is \" ,arr1)\n",
    "\n",
    "# Here u can ask Questions that Its like a list how do u name as the array here we can able to see by using the type \n",
    "print(\"The type of the array is \" ,type(arr1))\n",
    "\n",
    "print(\"The shape of the array is :\" , arr1.shape)\n",
    "\n",
    "# The output for the shape of the array is (5 , ) That is because we are using the 1 Dimensional \n",
    "# There wont have any rows or colmns here "
   ]
  },
  {
   "cell_type": "code",
   "execution_count": 6,
   "metadata": {},
   "outputs": [
    {
     "name": "stdout",
     "output_type": "stream",
     "text": [
      "[[10  7  8  9  7]]\n",
      "The shape of the arraay 2 is  (1, 5)\n",
      "The type of the array is :  <class 'numpy.ndarray'>\n"
     ]
    }
   ],
   "source": [
    "# creating the 2D array \n",
    "arr2 = np.array([10,7,8,9,7])\n",
    "arr2 = arr2.reshape(1,5) # reshape function is used to convert the 1 D to 2 D \n",
    "print(arr2) ## The Output is [[10  7  8  9  7]] the 2 box bracket shows that its 2 D ARRAY\n",
    "print(\"The shape of the arraay 2 is \" , arr2.shape)\n",
    "print(\"The type of the array is : \" , type(arr2)) # <class 'numpy.ndarray'> "
   ]
  },
  {
   "cell_type": "code",
   "execution_count": null,
   "metadata": {},
   "outputs": [],
   "source": []
  },
  {
   "cell_type": "code",
   "execution_count": null,
   "metadata": {},
   "outputs": [],
   "source": []
  },
  {
   "cell_type": "code",
   "execution_count": null,
   "metadata": {},
   "outputs": [],
   "source": []
  },
  {
   "cell_type": "code",
   "execution_count": null,
   "metadata": {},
   "outputs": [],
   "source": []
  },
  {
   "cell_type": "code",
   "execution_count": null,
   "metadata": {},
   "outputs": [],
   "source": []
  },
  {
   "cell_type": "code",
   "execution_count": null,
   "metadata": {},
   "outputs": [],
   "source": []
  },
  {
   "cell_type": "code",
   "execution_count": null,
   "metadata": {},
   "outputs": [],
   "source": []
  },
  {
   "cell_type": "code",
   "execution_count": null,
   "metadata": {},
   "outputs": [],
   "source": []
  },
  {
   "cell_type": "code",
   "execution_count": null,
   "metadata": {},
   "outputs": [],
   "source": []
  },
  {
   "cell_type": "code",
   "execution_count": null,
   "metadata": {},
   "outputs": [],
   "source": []
  },
  {
   "cell_type": "code",
   "execution_count": null,
   "metadata": {},
   "outputs": [],
   "source": []
  },
  {
   "cell_type": "code",
   "execution_count": null,
   "metadata": {},
   "outputs": [],
   "source": []
  },
  {
   "cell_type": "code",
   "execution_count": null,
   "metadata": {},
   "outputs": [],
   "source": []
  }
 ],
 "metadata": {
  "kernelspec": {
   "display_name": "Python 3",
   "language": "python",
   "name": "python3"
  },
  "language_info": {
   "codemirror_mode": {
    "name": "ipython",
    "version": 3
   },
   "file_extension": ".py",
   "mimetype": "text/x-python",
   "name": "python",
   "nbconvert_exporter": "python",
   "pygments_lexer": "ipython3",
   "version": "3.11.7"
  }
 },
 "nbformat": 4,
 "nbformat_minor": 2
}
