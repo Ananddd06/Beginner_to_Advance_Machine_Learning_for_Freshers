{
 "cells": [
  {
   "cell_type": "markdown",
   "metadata": {},
   "source": [
    "# Numpy\n",
    "\n",
    "NumPy (Numerical Python) is a powerful open-source library in Python used for numerical and scientific computing. It provides support for:\n",
    "\n",
    "* Multidimensional Arrays: A core feature of NumPy is its ndarray object, which represents a multidimensional array of elements of the same type, enabling efficient storage and manipulation of data.\n",
    "* Mathematical Functions: NumPy includes a comprehensive collection of mathematical functions for operations such as linear algebra, statistical analysis, Fourier transforms, and more.\n",
    "* Vectorized Operations: It allows for element-wise operations on arrays, reducing the need for explicit loops and optimizing performance.\n",
    "* Interoperability: It integrates well with other scientific libraries and is commonly used in combination with libraries like SciPy, Pandas, and Matplotlib."
   ]
  },
  {
   "cell_type": "code",
   "execution_count": 2,
   "metadata": {},
   "outputs": [],
   "source": [
    "import numpy as np \n",
    "# we are using np as the alias cause instead of numpy we can call np instead of numpy "
   ]
  },
  {
   "cell_type": "code",
   "execution_count": 3,
   "metadata": {},
   "outputs": [
    {
     "name": "stdout",
     "output_type": "stream",
     "text": [
      "The 1D Dimensional of the array is  [1 2 3 4 5]\n",
      "The type of the array is  <class 'numpy.ndarray'>\n",
      "The shape of the array is : (5,)\n"
     ]
    }
   ],
   "source": [
    "# Here we created the !D array using the numpy\n",
    "arr1 = np.array([1 ,2  ,3 , 4, 5])\n",
    "print(\"The 1D Dimensional of the array is \" ,arr1)\n",
    "\n",
    "# Here u can ask Questions that Its like a list how do u name as the array here we can able to see by using the type \n",
    "print(\"The type of the array is \" ,type(arr1))\n",
    "\n",
    "print(\"The shape of the array is :\" , arr1.shape)\n",
    "\n",
    "# The output for the shape of the array is (5 , ) That is because we are using the 1 Dimensional \n",
    "# There wont have any rows or colmns here "
   ]
  },
  {
   "cell_type": "code",
   "execution_count": 7,
   "metadata": {},
   "outputs": [
    {
     "name": "stdout",
     "output_type": "stream",
     "text": [
      "[[10  7  8  9  7]]\n",
      "The shape of the arraay 2 is  (1, 5)\n",
      "The type of the array is :  <class 'numpy.ndarray'>\n"
     ]
    }
   ],
   "source": [
    "# creating the 2D array \n",
    "arr2 = np.array([10,7,8,9,7])\n",
    "arr2 = arr2.reshape(1,5) # reshape function is used to convert the 1 D to 2 D \n",
    "# where it is said to be 1 rows and the 5 columns\n",
    "print(arr2) ## The Output is [[10  7  8  9  7]] the 2 box bracket shows that its 2 D ARRAY\n",
    "print(\"The shape of the arraay 2 is \" , arr2.shape)\n",
    "print(\"The type of the array is : \" , type(arr2)) # <class 'numpy.ndarray'> "
   ]
  },
  {
   "cell_type": "code",
   "execution_count": 10,
   "metadata": {},
   "outputs": [
    {
     "name": "stdout",
     "output_type": "stream",
     "text": [
      "[[ 1  2  3  4  5]\n",
      " [ 6  7  8  9 10]]\n",
      "The shape of the array is : (2, 5)\n"
     ]
    }
   ],
   "source": [
    "arr3 = np.array([[1,2,3,4,5],[6,7,8,9,10]])\n",
    "print(arr3)\n",
    "print(\"The shape of the array is :\" , arr3.shape) # (2, 5)\n",
    "# (2, 5) represent the 2 rows and the 5 columns "
   ]
  },
  {
   "cell_type": "code",
   "execution_count": 14,
   "metadata": {},
   "outputs": [
    {
     "data": {
      "text/plain": [
       "array([[0],\n",
       "       [2],\n",
       "       [4],\n",
       "       [6],\n",
       "       [8]])"
      ]
     },
     "execution_count": 14,
     "metadata": {},
     "output_type": "execute_result"
    }
   ],
   "source": [
    "arr = np.arange(0,10,2).reshape(5,1) \n",
    "arr"
   ]
  },
  {
   "cell_type": "code",
   "execution_count": 17,
   "metadata": {},
   "outputs": [
    {
     "name": "stdout",
     "output_type": "stream",
     "text": [
      "[[1. 1. 1. 1. 1.]\n",
      " [1. 1. 1. 1. 1.]\n",
      " [1. 1. 1. 1. 1.]]\n",
      "[[0. 0. 0. 0. 0.]\n",
      " [0. 0. 0. 0. 0.]\n",
      " [0. 0. 0. 0. 0.]]\n"
     ]
    }
   ],
   "source": [
    "arr_nums = np.ones((3,5)) # Here we can use the one and zero as they are inbuilt \n",
    "arr_zeros = np.zeros((3,5))\n",
    "print(arr_nums)\n",
    "print(arr_zeros)"
   ]
  },
  {
   "cell_type": "code",
   "execution_count": 21,
   "metadata": {},
   "outputs": [
    {
     "data": {
      "text/plain": [
       "array([[1., 0.],\n",
       "       [0., 1.]])"
      ]
     },
     "execution_count": 21,
     "metadata": {},
     "output_type": "execute_result"
    }
   ],
   "source": [
    "# Identity matrix we have the diagonal to be 1 and the rest would be 0\n",
    "np.eye(2)"
   ]
  },
  {
   "cell_type": "code",
   "execution_count": 35,
   "metadata": {},
   "outputs": [
    {
     "name": "stdout",
     "output_type": "stream",
     "text": [
      "Array :  [[1 2 3]\n",
      " [4 5 6]]\n",
      "The Dimenetionality of the array is :  2\n",
      "The shape of the array is :  (2, 3)\n",
      "The size of the array is :  6\n",
      "The type of the array is :  <class 'numpy.ndarray'>\n"
     ]
    }
   ],
   "source": [
    "# Attributes of the Numpy array \n",
    "arr = np.array([[1,2,3],[4,5,6]])\n",
    "print(\"Array : \" , arr) # Array :  [[1 2 3]\n",
    "print(\"The Dimenetionality of the array is : \" , arr.ndim)\n",
    "print(\"The shape of the array is : \" , arr.shape)\n",
    "print(\"The size of the array is : \" , arr.size)\n",
    "print(\"The type of the array is : \" , type(arr))"
   ]
  },
  {
   "cell_type": "code",
   "execution_count": 38,
   "metadata": {},
   "outputs": [
    {
     "name": "stdout",
     "output_type": "stream",
     "text": [
      "The addition of the array is : [ 7  9 11 13 15]\n",
      "The subtraction of the array is : [-5 -5 -5 -5 -5]\n",
      "The multiplication of the array is : [ 6 14 24 36 50]\n",
      "The division of the array is : [0.16666667 0.28571429 0.375      0.44444444 0.5       ]\n"
     ]
    }
   ],
   "source": [
    "# Numpy vectorization variable \n",
    "arr1 = np.array([1,2,3,4,5])\n",
    "arr2 = np.array([6,7,8,9,10])\n",
    "\n",
    "# addition of the array \n",
    "print(\"The addition of the array is :\" , arr1 + arr2)\n",
    "\n",
    "# Subtraction of the array\n",
    "print(\"The subtraction of the array is :\" , arr1 - arr2)\n",
    "\n",
    "# Multiplication of the array\n",
    "print(\"The multiplication of the array is :\" , arr1 * arr2)\n",
    "\n",
    "# Division of the array\n",
    "print(\"The division of the array is :\" , arr1 / arr2)\n",
    "\n"
   ]
  },
  {
   "cell_type": "code",
   "execution_count": 41,
   "metadata": {},
   "outputs": [
    {
     "name": "stdout",
     "output_type": "stream",
     "text": [
      "The square root of the array is :  [1.         1.41421356 1.73205081 2.         2.23606798 2.44948974]\n",
      "The exponential of the array is :  [  2.71828183   7.3890561   20.08553692  54.59815003 148.4131591\n",
      " 403.42879349]\n",
      "The logarithm of the array is :  [0.         0.69314718 1.09861229 1.38629436 1.60943791 1.79175947]\n",
      "The sin of the array is :  [ 0.84147098  0.90929743  0.14112001 -0.7568025  -0.95892427 -0.2794155 ]\n",
      "The cos of the array is :  [ 0.54030231 -0.41614684 -0.9899925  -0.65364362  0.28366219  0.96017029]\n",
      "The tan of the array is :  [ 1.55740772 -2.18503986 -0.14254654  1.15782128 -3.38051501 -0.29100619]\n",
      "The absolute value of the array is :  [1 2 3 4 5 6]\n"
     ]
    }
   ],
   "source": [
    "# Universal Function \n",
    "arr = np.array([1,2,3,4,5,6])\n",
    "\n",
    "\n",
    "# Square root of the array\n",
    "print(\"The square root of the array is : \" , np.sqrt(arr))\n",
    "\n",
    "# Exponential of the array\n",
    "print(\"The exponential of the array is : \" , np.exp(arr))\n",
    "\n",
    "# Logarithm of the array\n",
    "print(\"The logarithm of the array is : \" , np.log(arr))\n",
    "\n",
    "# sin of the array \n",
    "print(\"The sin of the array is : \" , np.sin(arr))\n",
    "\n",
    "# cos of the array\n",
    "print(\"The cos of the array is : \" , np.cos(arr))\n",
    "\n",
    "# tan of the array\n",
    "print(\"The tan of the array is : \" , np.tan(arr))\n",
    "\n",
    "# Absolute value of the array\n",
    "print(\"The absolute value of the array is : \" , np.abs(arr))"
   ]
  },
  {
   "cell_type": "code",
   "execution_count": null,
   "metadata": {},
   "outputs": [],
   "source": []
  },
  {
   "cell_type": "code",
   "execution_count": null,
   "metadata": {},
   "outputs": [],
   "source": []
  },
  {
   "cell_type": "code",
   "execution_count": null,
   "metadata": {},
   "outputs": [],
   "source": []
  },
  {
   "cell_type": "code",
   "execution_count": null,
   "metadata": {},
   "outputs": [],
   "source": []
  },
  {
   "cell_type": "code",
   "execution_count": null,
   "metadata": {},
   "outputs": [],
   "source": []
  }
 ],
 "metadata": {
  "kernelspec": {
   "display_name": "Python 3",
   "language": "python",
   "name": "python3"
  },
  "language_info": {
   "codemirror_mode": {
    "name": "ipython",
    "version": 3
   },
   "file_extension": ".py",
   "mimetype": "text/x-python",
   "name": "python",
   "nbconvert_exporter": "python",
   "pygments_lexer": "ipython3",
   "version": "3.11.7"
  }
 },
 "nbformat": 4,
 "nbformat_minor": 2
}
