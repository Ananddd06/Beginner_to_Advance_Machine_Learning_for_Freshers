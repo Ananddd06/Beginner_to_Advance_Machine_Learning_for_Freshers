{
 "cells": [
  {
   "cell_type": "markdown",
   "metadata": {},
   "source": [
    "# Numpy\n",
    "\n",
    "NumPy (Numerical Python) is a powerful open-source library in Python used for numerical and scientific computing. It provides support for:\n",
    "\n",
    "* Multidimensional Arrays: A core feature of NumPy is its ndarray object, which represents a multidimensional array of elements of the same type, enabling efficient storage and manipulation of data.\n",
    "* Mathematical Functions: NumPy includes a comprehensive collection of mathematical functions for operations such as linear algebra, statistical analysis, Fourier transforms, and more.\n",
    "* Vectorized Operations: It allows for element-wise operations on arrays, reducing the need for explicit loops and optimizing performance.\n",
    "* Interoperability: It integrates well with other scientific libraries and is commonly used in combination with libraries like SciPy, Pandas, and Matplotlib."
   ]
  },
  {
   "cell_type": "code",
   "execution_count": 2,
   "metadata": {},
   "outputs": [],
   "source": [
    "import numpy as np \n",
    "# we are using np as the alias cause instead of numpy we can call np instead of numpy "
   ]
  },
  {
   "cell_type": "code",
   "execution_count": null,
   "metadata": {},
   "outputs": [],
   "source": []
  }
 ],
 "metadata": {
  "kernelspec": {
   "display_name": "Python 3",
   "language": "python",
   "name": "python3"
  },
  "language_info": {
   "codemirror_mode": {
    "name": "ipython",
    "version": 3
   },
   "file_extension": ".py",
   "mimetype": "text/x-python",
   "name": "python",
   "nbconvert_exporter": "python",
   "pygments_lexer": "ipython3",
   "version": "3.11.7"
  }
 },
 "nbformat": 4,
 "nbformat_minor": 2
}
