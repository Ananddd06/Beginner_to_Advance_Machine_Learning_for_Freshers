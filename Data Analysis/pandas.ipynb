{
 "cells": [
  {
   "cell_type": "markdown",
   "metadata": {},
   "source": [
    "# Pandas \n",
    "Pandas is a powerful, open-source Python library widely used for data manipulation, analysis, and cleaning. It provides high-performance, easy-to-use data structures and data analysis tools for working with structured data.\n",
    "\n",
    "- Key features of pandas include:\n",
    "\n",
    "- Data Structures:\n",
    "  * Series: A one-dimensional labeled array, capable of holding any data type.\n",
    "  * DataFrame: A two-dimensional labeled data structure, similar to a table in a database or an Excel spreadsheet.\n",
    "* Key Functionalities:\n",
    "* Data cleaning and preparation.\n",
    "* Handling missing data efficiently.\n",
    "* Filtering and selecting data based on conditions.\n",
    "* Merging, joining, and concatenating datasets.\n",
    "* Grouping and aggregating data for summary statistics.\n",
    "* Time-series analysis.\n",
    "\n",
    "* Integration:\n",
    "   * Works seamlessly with other data analysis libraries like NumPy, Matplotlib, and Scikit-learn.\n",
    "Can read/write data from/to various file formats, such as CSV, Excel, SQL databases, JSON, and more.\n"
   ]
  },
  {
   "cell_type": "code",
   "execution_count": 1,
   "metadata": {},
   "outputs": [],
   "source": [
    "import pandas as pd "
   ]
  },
  {
   "cell_type": "code",
   "execution_count": null,
   "metadata": {},
   "outputs": [],
   "source": []
  }
 ],
 "metadata": {
  "kernelspec": {
   "display_name": "Python 3",
   "language": "python",
   "name": "python3"
  },
  "language_info": {
   "codemirror_mode": {
    "name": "ipython",
    "version": 3
   },
   "file_extension": ".py",
   "mimetype": "text/x-python",
   "name": "python",
   "nbconvert_exporter": "python",
   "pygments_lexer": "ipython3",
   "version": "3.11.7"
  }
 },
 "nbformat": 4,
 "nbformat_minor": 2
}
