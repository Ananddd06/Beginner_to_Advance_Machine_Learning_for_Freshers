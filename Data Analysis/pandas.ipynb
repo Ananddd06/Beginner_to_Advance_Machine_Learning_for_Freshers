{
 "cells": [
  {
   "cell_type": "markdown",
   "metadata": {},
   "source": [
    "# Pandas \n",
    "Pandas is a powerful, open-source Python library widely used for data manipulation, analysis, and cleaning. It provides high-performance, easy-to-use data structures and data analysis tools for working with structured data.\n",
    "\n",
    "- Key features of pandas include:\n",
    "\n",
    "- Data Structures:\n",
    "  * Series: A one-dimensional labeled array, capable of holding any data type.\n",
    "  * DataFrame: A two-dimensional labeled data structure, similar to a table in a database or an Excel spreadsheet.\n",
    "* Key Functionalities:\n",
    "* Data cleaning and preparation.\n",
    "* Handling missing data efficiently.\n",
    "* Filtering and selecting data based on conditions.\n",
    "* Merging, joining, and concatenating datasets.\n",
    "* Grouping and aggregating data for summary statistics.\n",
    "* Time-series analysis.\n",
    "\n",
    "* Integration:\n",
    "   * Works seamlessly with other data analysis libraries like NumPy, Matplotlib, and Scikit-learn.\n",
    "Can read/write data from/to various file formats, such as CSV, Excel, SQL databases, JSON, and more.\n"
   ]
  },
  {
   "cell_type": "code",
   "execution_count": 1,
   "metadata": {},
   "outputs": [],
   "source": [
    "import pandas as pd "
   ]
  },
  {
   "cell_type": "code",
   "execution_count": 5,
   "metadata": {},
   "outputs": [
    {
     "name": "stdout",
     "output_type": "stream",
     "text": [
      "Series of the data is \n",
      " :  0    1\n",
      "1    2\n",
      "2    3\n",
      "3    4\n",
      "4    5\n",
      "dtype: int64\n",
      "<class 'pandas.core.series.Series'>\n"
     ]
    }
   ],
   "source": [
    "# series \n",
    "# Series is the one dimensional array like object that can hold any data type . It is similar to the columns in the table\n",
    "data = [1,2,3,4,5]\n",
    "series = pd.Series(data)\n",
    "print(\"Series of the data is \\n : \" , series)  \n",
    "print(type(series))"
   ]
  },
  {
   "cell_type": "code",
   "execution_count": 13,
   "metadata": {},
   "outputs": [
    {
     "name": "stdout",
     "output_type": "stream",
     "text": [
      "Series from the dictionary is \n",
      " :  a    10\n",
      "b    20\n",
      "c    30\n",
      "d    40\n",
      "e    50\n",
      "dtype: int64\n",
      "<class 'pandas.core.series.Series'>\n"
     ]
    }
   ],
   "source": [
    "# create a Series from the dictinaries \n",
    "\n",
    "data = {'a':10, 'b':20, 'c':30, 'd':40, 'e':50}\n",
    "series = pd.Series(data)\n",
    "print(\"Series from the dictionary is \\n : \" , series)\n",
    "print(type(series))"
   ]
  },
  {
   "cell_type": "code",
   "execution_count": 12,
   "metadata": {},
   "outputs": [
    {
     "name": "stdout",
     "output_type": "stream",
     "text": [
      " The series of the data is  : \n",
      " a    1\n",
      "b    2\n",
      "c    3\n",
      "dtype: int64\n",
      "<class 'pandas.core.series.Series'>\n"
     ]
    }
   ],
   "source": [
    "# without creating a dict we can able to get these in seperate and need to concate it \n",
    "data = [1,2,3]\n",
    "index = ['a' , 'b' , 'c']\n",
    "series = pd.Series(data, index = index)\n",
    "print(\" The series of the data is  : \\n\",series)\n",
    "print(type(series))"
   ]
  },
  {
   "cell_type": "code",
   "execution_count": 17,
   "metadata": {},
   "outputs": [
    {
     "name": "stdout",
     "output_type": "stream",
     "text": [
      "The Dataset in rows and cols from the dict : \n",
      "      Name  Age     City\n",
      "0  Anand   22  Chennai\n",
      "1  Krish   40   Mumbai\n",
      "2   Greg   38  America\n",
      "<class 'pandas.core.frame.DataFrame'>\n"
     ]
    }
   ],
   "source": [
    "# DataFrame \n",
    "# As the DataFrame is the 2D dataset consists of rows and columns and it is mutuable and hetrogeneous dataset \n",
    "# It is the multidimensional data \n",
    "# Creae a DataFrame from the dict of list\n",
    "\n",
    "data = {\n",
    "    'Name' : ['Anand' , 'Krish' , 'Greg'],\n",
    "    'Age' : [22 , 40 , 38],\n",
    "    'City' : ['Chennai' , 'Mumbai' , 'America']\n",
    "}\n",
    "df = pd.DataFrame(data=data)\n",
    "print(\"The Dataset in rows and cols from the dict : \\n \" , df) # Here we converted our Dict to DataFrame\n",
    "print(type(df))"
   ]
  },
  {
   "cell_type": "code",
   "execution_count": 18,
   "metadata": {},
   "outputs": [
    {
     "name": "stdout",
     "output_type": "stream",
     "text": [
      "The Dataset is : \n",
      "      Name  Age     City\n",
      "0  Anand   22  Chennai\n",
      "1  Krish   40   Mumbai\n",
      "2   Greg   38  America\n",
      "<class 'pandas.core.frame.DataFrame'>\n"
     ]
    }
   ],
   "source": [
    "# create a data frame from the List of Dict\n",
    "\n",
    "data = [\n",
    "    {'Name' : 'Anand', 'Age' : 22, 'City' : 'Chennai'},\n",
    "    {'Name' : 'Krish', 'Age' : 40, 'City' : 'Mumbai'},\n",
    "    {'Name' : 'Greg', 'Age' : 38, 'City' : 'America'}\n",
    "]\n",
    "df = pd.DataFrame(data=data)\n",
    "print(\"The Dataset is : \\n \" , df)\n",
    "print(type(df))\n",
    "\n"
   ]
  },
  {
   "cell_type": "code",
   "execution_count": null,
   "metadata": {},
   "outputs": [],
   "source": []
  },
  {
   "cell_type": "code",
   "execution_count": null,
   "metadata": {},
   "outputs": [],
   "source": []
  },
  {
   "cell_type": "code",
   "execution_count": null,
   "metadata": {},
   "outputs": [],
   "source": []
  },
  {
   "cell_type": "code",
   "execution_count": null,
   "metadata": {},
   "outputs": [],
   "source": []
  },
  {
   "cell_type": "code",
   "execution_count": null,
   "metadata": {},
   "outputs": [],
   "source": []
  },
  {
   "cell_type": "code",
   "execution_count": null,
   "metadata": {},
   "outputs": [],
   "source": []
  },
  {
   "cell_type": "code",
   "execution_count": null,
   "metadata": {},
   "outputs": [],
   "source": []
  }
 ],
 "metadata": {
  "kernelspec": {
   "display_name": "Python 3",
   "language": "python",
   "name": "python3"
  },
  "language_info": {
   "codemirror_mode": {
    "name": "ipython",
    "version": 3
   },
   "file_extension": ".py",
   "mimetype": "text/x-python",
   "name": "python",
   "nbconvert_exporter": "python",
   "pygments_lexer": "ipython3",
   "version": "3.11.7"
  }
 },
 "nbformat": 4,
 "nbformat_minor": 2
}
